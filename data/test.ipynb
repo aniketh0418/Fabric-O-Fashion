{
 "cells": [
  {
   "cell_type": "code",
   "execution_count": 1,
   "metadata": {},
   "outputs": [
    {
     "name": "stdout",
     "output_type": "stream",
     "text": [
      "Length of geolocation list: 65\n",
      "Length of market_segment list: 67\n",
      "Length of best_use list: 68\n"
     ]
    }
   ],
   "source": [
    "geolocation = [\n",
    "    \"Global Kashmir, Mongolia\", \"Global Europe, India\", \"India, China\", \"Global Scotland\", \n",
    "    \"Global USA\", \"Global\", \"Global\", \"Global\", \"Global\", \"Global\", \"Global\", \"Global\", \n",
    "    \"Global\", \"Global\", \"Global\", \"Global\", \"India, Bangladesh\", \"Global\", \"Global\", \n",
    "    \"USA, Europe\", \"Global\", \"India, USA\", \"India, China\", \"Europe, Global\", \"Global\", \n",
    "    \"Andes (Peru, Bolivia)\", \"Europe, Asia\", \"Africa (South Africa)\", \"Middle East, Asia\", \n",
    "    \"Global\", \"Global\", \"USA, Europe\", \"Europe, India\", \"Global\", \"Global\", \"Global\", \n",
    "    \"India\", \"India\", \"Varanasi, India\", \"Lucknow, India\", \"Odisha, India\", \n",
    "    \"Andhra Pradesh, India\", \"Madhya Pradesh, India\", \"Maharashtra, India\", \"Gujarat, India\", \n",
    "    \"Kashmir, India\", \"Punjab, India\", \"Rajasthan, India\", \"Tamil Nadu, India\", \n",
    "    \"Himachal Pradesh, India\", \"Bengal, India\", \"Assam, India\", \"Kerala, India\", \"Global\", \n",
    "    \"Bihar, India\", \"Sikkim, India\", \"Rajasthan, India\", \"Gujarat, India\", \"Bengal, India\", \n",
    "    \"Goa, India\", \"Rajasthan, India\", \"Karnataka, India\", \"Andhra Pradesh, India\", \n",
    "    \"Rajasthan, India\", \"Odisha, India\"\n",
    "]\n",
    "\n",
    "market_segment = [\n",
    "    \"High\", \"High\", \"Mid to High\", \"Mid to High\", \"High\", \"Mid\", \"High\", \"High\", \"Mid\", \n",
    "    \"Mid\", \"High\", \"High\", \"Mid\", \"High\", \"Mid\", \"Mid\", \"Mid\", \"Mid to High\", \"Mid\", \n",
    "    \"Mid to High\", \"Mid to High\", \"Mid\", \"Mid\", \"Mid\", \"Mid\", \"High\", \"High\", \"High\", \n",
    "    \"High\", \"High\", \"High\", \"High\", \"Low\", \"Mid\", \"Mid\", \"Mid\", \"Mid\", \"Mid\", \"Mid\", \n",
    "    \"Mid\", \"High\", \"High\", \"High\", \"High\", \"High\", \"High\", \"High\", \"High\", \"Mid to High\", \n",
    "    \"High\", \"High\", \"High\", \"High\", \"High\", \"High\", \"Mid\", \"Mid to High\", \"High\", \"High\", \n",
    "    \"High\", \"Mid to High\", \"Mid to High\", \"High\", \"High\", \"High\", \"High\", \"High\"\n",
    "]\n",
    "\n",
    "best_use = [\n",
    "    \"Winter coats, sweaters, and suits\", \"Luxury scarves, sweaters, and coats\",\n",
    "    \"Everyday wear, t-shirts, and dresses\", \"Summer wear, shirts, and tablecloths\",\n",
    "    \"Evening gowns, ties, and luxury bedding\", \"Sportswear, outerwear, and upholstery\",\n",
    "    \"Jackets, blazers, and skirts\", \"Jeans, jackets, and casual wear\",\n",
    "    \"Dresses, blouses, and linings\", \"Evening wear, lingerie, and upholstery\",\n",
    "    \"Party dresses, curtains, and upholstery\", \"Jackets, shoes, and bags\",\n",
    "    \"Evening dresses, blouses, and scarves\", \"Bridal wear, evening gowns, and decor\",\n",
    "    \"Blankets, jackets, and winter wear\", \"Bags, tents, and durable clothing\",\n",
    "    \"Activewear, swimwear, and stretch wear\", \"Dresses, tops, and scarves\",\n",
    "    \"Sportswear, hosiery, and umbrellas\", \"Eco-friendly bags, rugs, and mats\",\n",
    "    \"Jackets, Pants, Upholstery\", \"Denim Wear, Jeans\", \"Shirts, Blankets\",\n",
    "    \"T-Shirts, Dresses\", \"Summer Wear, Curtains\", \"Eco-Wear, Bags\",\n",
    "    \"Dresses, Upholstery\", \"Dresses, Scarves\", \"Sweaters, Scarves\",\n",
    "    \"Sweaters, Accessories\", \"Suits, Upholstery\", \"Coats, Jackets\",\n",
    "    \"Linings, Dresses\", \"Blankets, Sweaters\", \"Jackets, Blankets\",\n",
    "    \"Dresses, Linings\", \"Pants, Blazers\", \"Activewear, Undergarments\",\n",
    "    \"Dresses, Blouses\", \"Ethnic Wear, Home Decor\", \"Sarees, Home Decor\",\n",
    "    \"Bridal Wear\", \"Kurtas, Sarees, Dupattas\", \"Sarees, Dupattas\",\n",
    "    \"Sarees, Home Decor\", \"Sarees, Dupattas\", \"Bridal Sarees\",\n",
    "    \"Bridal Sarees, Stoles\", \"Shawls, Scarves\", \"Dupattas, Jackets\",\n",
    "    \"Sarees, Scarves\", \"Bridal Sarees\", \"Shawls, Traditional Wear\",\n",
    "    \"Sarees, Dupattas\", \"Sarees, Traditional Wear\", \"Sarees, Dupattas\",\n",
    "    \"Shirts, Skirts\", \"Sarees, Blouses\", \"Shawls, Traditional Wear\",\n",
    "    \"Sarees, Dupattas\", \"Stoles, Sarees\", \"Blankets, Stoles\",\n",
    "    \"Sarees, Daily Wear\", \"Sarees, Home Decor\", \"Sarees, Dupattas\",\n",
    "    \"Sarees, Shirts\", \"Sarees, Kurtas\", \"Sarees, Dupattas\"\n",
    "]\n",
    "\n",
    "# Verify the length of each list\n",
    "print(f\"Length of geolocation list: {len(geolocation)}\")\n",
    "print(f\"Length of market_segment list: {len(market_segment)}\")\n",
    "print(f\"Length of best_use list: {len(best_use)}\")"
   ]
  },
  {
   "cell_type": "code",
   "execution_count": 15,
   "metadata": {},
   "outputs": [
    {
     "name": "stdout",
     "output_type": "stream",
     "text": [
      "Length of geolocation list: 68\n"
     ]
    }
   ],
   "source": [
    "geolocation =[\n",
    "    \"Winter coats, sweaters, and suits\", \"Luxury scarves, sweaters, and coats\",\n",
    "    \"Everyday wear, t-shirts, and dresses\", \"Summer wear, shirts, and tablecloths\",\n",
    "    \"Evening gowns, ties, and luxury bedding\", \"Sportswear, outerwear, and upholstery\",\n",
    "    \"Jackets, blazers, and skirts\", \"Jeans, jackets, and casual wear\",\n",
    "    \"Dresses, blouses, and linings\", \"Evening wear, lingerie, and upholstery\",\n",
    "    \"Party dresses, curtains, and upholstery\", \"Jackets, shoes, and bags\",\n",
    "    \"Evening dresses, blouses, and scarves\", \"Bridal wear, evening gowns, and decor\",\n",
    "    \"Blankets, jackets, and winter wear\", \"Bags, tents, and durable clothing\",\n",
    "    \"Activewear, swimwear, and stretch wear\", \"Dresses, tops, and scarves\",\n",
    "    \"Sportswear, hosiery, and umbrellas\", \"Eco-friendly bags, rugs, and mats\",\n",
    "    \"Jackets, Pants, Upholstery\", \"Denim Wear, Jeans\", \"Shirts, Blankets\",\n",
    "    \"T-Shirts, Dresses\", \"Summer Wear, Curtains\", \"Eco-Wear, Bags\",\n",
    "    \"Dresses, Upholstery\", \"Dresses, Scarves\", \"Sweaters, Scarves\",\n",
    "    \"Sweaters, Accessories\", \"Suits, Upholstery\", \"Coats, Jackets\",\n",
    "    \"Linings, Dresses\", \"Blankets, Sweaters\", \"Jackets, Blankets\",\n",
    "    \"Dresses, Linings\", \"Pants, Blazers\", \"Activewear, Undergarments\",\n",
    "    \"Dresses, Blouses\", \"Ethnic Wear, Home Decor\", \"Sarees, Home Decor\",\n",
    "    \"Bridal Wear\", \"Kurtas, Sarees, Dupattas\", \"Sarees, Dupattas\",\n",
    "    \"Sarees, Home Decor\", \"Sarees, Dupattas\", \"Bridal Sarees\",\n",
    "    \"Bridal Sarees, Stoles\", \"Shawls, Scarves\", \"Dupattas, Jackets\",\n",
    "    \"Sarees, Scarves\", \"Bridal Sarees\", \"Shawls, Traditional Wear\",\n",
    "    \"Sarees, Dupattas\", \"Sarees, Traditional Wear\", \"Sarees, Dupattas\",\n",
    "    \"Shirts, Skirts\", \"Sarees, Blouses\", \"Shawls, Traditional Wear\",\n",
    "    \"Sarees, Dupattas\", \"Stoles, Sarees\", \"Blankets, Stoles\",\n",
    "    \"Sarees, Daily Wear\", \"Sarees, Home Decor\", \"Sarees, Dupattas\",\n",
    "    \"Sarees, Shirts\", \"Sarees, Kurtas\", \"Sarees, Dupattas\"\n",
    "]\n",
    "print(f\"Length of geolocation list: {len(geolocation)}\")"
   ]
  },
  {
   "cell_type": "code",
   "execution_count": null,
   "metadata": {},
   "outputs": [],
   "source": []
  }
 ],
 "metadata": {
  "kernelspec": {
   "display_name": "testgeminiapi",
   "language": "python",
   "name": "python3"
  },
  "language_info": {
   "codemirror_mode": {
    "name": "ipython",
    "version": 3
   },
   "file_extension": ".py",
   "mimetype": "text/x-python",
   "name": "python",
   "nbconvert_exporter": "python",
   "pygments_lexer": "ipython3",
   "version": "3.9.19"
  }
 },
 "nbformat": 4,
 "nbformat_minor": 2
}
